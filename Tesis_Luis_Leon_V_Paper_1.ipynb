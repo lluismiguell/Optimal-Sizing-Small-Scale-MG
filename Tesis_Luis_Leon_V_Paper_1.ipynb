{
 "cells": [
  {
   "cell_type": "code",
   "execution_count": null,
   "metadata": {
    "colab": {
     "base_uri": "https://localhost:8080/"
    },
    "id": "xrAXIgL7xnHv",
    "outputId": "1eefbb3b-8d07-4d22-f208-876fd0210f16"
   },
   "outputs": [],
   "source": [
    "# Instalación de open source solver glpk\n",
    "#!apt install glpk-utils\n",
    "#!pip install glpk\n",
    "#!pip install pyomo \n",
    "#!pip install numpy-financial"
   ]
  },
  {
   "cell_type": "code",
   "execution_count": null,
   "metadata": {
    "id": "v4rumr_px7e8"
   },
   "outputs": [],
   "source": [
    "# Importación de librerias\n",
    "import random\n",
    "import pandas as pd #manejo de datos\n",
    "from pyomo.environ import * #optimización\n",
    "from  pyomo import environ as pym\n",
    "import matplotlib.pyplot as plt #Figuras\n",
    "import numpy as np #Operaciones\n",
    "import numpy_financial as npf #Operaciones financieras"
   ]
  },
  {
   "cell_type": "code",
   "execution_count": null,
   "metadata": {
    "id": "3h6AHGLzyZAI"
   },
   "outputs": [],
   "source": [
    "# Creación del modelo \n",
    "model = ConcreteModel()"
   ]
  },
  {
   "cell_type": "markdown",
   "metadata": {},
   "source": [
    "**Parámetros fijos**\n",
    "\n",
    "Máxima potencia disponible de la red:\n",
    "$$Max_{P_{G}}= 1500 \\ kW$$\n",
    "Máxima potencia disponible del generador Diésel de respaldo:\n",
    "$$Max_{P_{D}}= 0 \\ kW$$\n",
    "Precio de adquisición de supercapacitor en usd por kWh:\n",
    "$$SC_p = 2000 \\ usd/kWh$$\n",
    "Paso de simulación para el horizonte de tiempo:\n",
    "$$t_s = 1 \\ h$$\n"
   ]
  },
  {
   "cell_type": "code",
   "execution_count": null,
   "metadata": {
    "id": "6u8JtwmfyxL-"
   },
   "outputs": [],
   "source": [
    "# Potencia máxima de transformador grid en kW\n",
    "PGMax = 1500\n",
    "\n",
    "# Potencia máxima disponible del generador diesel de respaldo\n",
    "Pdiesel = 0\n",
    "\n",
    "# Precio de adquisición de supercapacitor por Wh en usd/Wh\n",
    "SC_price = 2\n",
    "\n",
    "# Paso de simulación para el horizonte de tiempo en h\n",
    "t_s = 1\n",
    "\n",
    "#Reducción del costo de los almacenadores\n",
    "Reduc_SC = 0.75\n",
    "\n",
    "# Cargar datos de carga en kW\n",
    "Ld = pd.read_excel('Data_Thesis.xlsx',sheet_name='CargaTodos',header=0,index_col=0)\n",
    "\n",
    "# Cargar datos de irradiancia en W/m2\n",
    "Gd = pd.read_excel('Data_Thesis.xlsx',sheet_name='Irradiance',header=0,index_col=0)\n",
    "#Gd = Gd*0.8\n",
    "\n",
    "# Cargar datos de temperatura ambiente en °C\n",
    "Tem = pd.read_excel('Data_Thesis.xlsx',sheet_name='Temperature',header=0,index_col=0)\n",
    "\n",
    "# Cargar datos de velocidad de viento en m/s\n",
    "Wind = pd.read_excel('Data_Thesis.xlsx',sheet_name='Wind',header=0,index_col=0)\n",
    "\n",
    "# Cargar información de disponibilidad de trafo grid\n",
    "PGridAv = pd.read_excel('Data_Thesis.xlsx',sheet_name='GridAv',header=0,index_col=0)/1000\n",
    "\n",
    "# Cargar datos de precio de energía $COP/kWh\n",
    "Pusd = pd.read_excel('Data_Thesis.xlsx',sheet_name='PreciosTodos',header=0,index_col=0)\n",
    "\n",
    "# Cargar datos de módulos PV\n",
    "PVtype = pd.read_excel('Data_Thesis.xlsx',sheet_name='PVModules',header=0,index_col=0)\n",
    "\n",
    "# Cargar datos de módulos de Batt y Batt+SC\n",
    "Battype = pd.read_excel('Data_Thesis.xlsx',sheet_name='BattModules',header=0,index_col=0)"
   ]
  },
  {
   "cell_type": "markdown",
   "metadata": {},
   "source": [
    "**Parámetros fijos**\n",
    "\n",
    "tasa anual de interés e incremento del dinero para amortización:\n",
    "$$t_{int} = 5 \\%$$\n",
    "Horizonte de planeación (vida útil del proyecto)\n",
    "$$LY= 25 \\ años$$"
   ]
  },
  {
   "cell_type": "code",
   "execution_count": null,
   "metadata": {},
   "outputs": [],
   "source": [
    "# Anualizar valores unitarios a 25 años (vida útil de paneles solares)\n",
    "interest = 0.05\n",
    "life_years = 25\n",
    "\n",
    "# Coeficientes del VPN para todos los años del horizonte de planeación\n",
    "VPN_F = [round(1/np.power(1+interest,i),3) for i in np.arange(1,life_years+1)]\n",
    "# Suma de los coeficientes del VPN\n",
    "VPN_FS = np.sum(VPN_F)\n",
    "\n",
    "\n",
    "# PV\n",
    "for x in range(0,len(PVtype.columns)):\n",
    "    # Precio amortizado adquisición individual\n",
    "    PVtype.iloc[7,x] = -1*npf.pmt(interest, life_years, PVtype.iloc[0,x])\n",
    "    # Precio amortizado instalación individual\n",
    "    PVtype.iloc[8,x] = -1*npf.pmt(interest, life_years, PVtype.iloc[1,x])\n",
    "\n",
    "# Batt\n",
    "Battprice = [0]*len(Battype.columns)\n",
    "BattSCprice = [0]*len(Battype.columns)\n",
    "\n",
    "for x in range(0,len(Battype.columns)):\n",
    "    # Precio de una batería en el año 0\n",
    "    Battprice[x] += Battype.iloc[0,x]\n",
    "    # Precio de degradación en el año 0\n",
    "    BattSCprice[x] += Battype.iloc[13,x]\n",
    "\n",
    "for x in range(0,len(Battype.columns)):\n",
    "    # Precio amortizado adquisición de una batería en el horizonte de planeación\n",
    "    Battype.iloc[9,x]  = Battprice[x]\n",
    "    Battype.iloc[10,x] = -1*npf.pmt(interest, life_years, Battprice[x])\n",
    "    Battype.iloc[14,x] = -1*npf.pmt(interest, life_years, BattSCprice[x])\n",
    "\n",
    "Battype[:].iloc[10] *= Reduc_SC      # Reducción en costos de adquisición almacenadores\n",
    "Battype[:].iloc[14] *= Reduc_SC      # Reducción en costos de adquisición SC\n",
    "Battype[:].iloc[0] *= Reduc_SC      # Reducción en costos de adquisición almacenadores\n",
    "Battype[:].iloc[13] *= Reduc_SC      # Reducción en costos de adquisición SC"
   ]
  },
  {
   "cell_type": "code",
   "execution_count": null,
   "metadata": {},
   "outputs": [],
   "source": [
    "Battype"
   ]
  },
  {
   "cell_type": "markdown",
   "metadata": {},
   "source": [
    "## Caso de estudio"
   ]
  },
  {
   "cell_type": "code",
   "execution_count": null,
   "metadata": {},
   "outputs": [],
   "source": [
    "Caso = 'UCI' # Elegir entre : 'Hospital' , 'Gobernacion' , 'Vichada'\n",
    "\n",
    "\n",
    "if Caso == 'Hospital':\n",
    "\n",
    "    Load = Ld['Carga_Hosp_C'].values\n",
    "\n",
    "    PGridMax = PGridAv['CargaHosp'].values\n",
    "    PDieselMax = PGridAv['CargaHospDiesel'].values\n",
    "    MaxPpvG = 0.05*PGridAv['CargaHosp'].values  #0.05 por default        # Máxima potencia de venta de PV a la red W\n",
    "\n",
    "    PriceENS = Pusd['PriceENS_Hosp'].values\n",
    "\n",
    "    Cbackup = 0.53\n",
    "\n",
    "    SoC_init = 1 #Estado de carga inicial\n",
    "\n",
    "    Adisp = 3500                   # Área disponible para instalación de paneles solares en el lugar en m2\n",
    "\n",
    "elif Caso == 'Gobernacion':\n",
    "\n",
    "    Load = Ld['Carga_Gob'].values\n",
    "\n",
    "    PGridMax = PGridAv['CargaGob'].values\n",
    "    PDieselMax = PGridAv['CargaGobDiesel'].values\n",
    "    MaxPpvG = 0.05*PGridAv['CargaGob'].values   #0.05 por default        # Máxima potencia de venta de PV a la red W\n",
    "    PriceENS = Pusd['PriceENS_Gob'].values\n",
    "\n",
    "    Cbackup = 0\n",
    "\n",
    "    SoC_init = 1 #Estado de carga inicial\n",
    "\n",
    "    Adisp = 350                  # Área disponible para instalación de paneles solares en el lugar en m2\n",
    "\n",
    "elif Caso == 'UCI':\n",
    "\n",
    "    Load = Ld['Carga_UCI'].values\n",
    "\n",
    "    PGridMax = PGridAv['CargaHosp'].values\n",
    "    PDieselMax = PGridAv['CargaHospDiesel'].values\n",
    "    MaxPpvG = 0.05*PGridAv['CargaHosp'].values  #0.05 por default        # Máxima potencia de venta de PV a la red W\n",
    "\n",
    "    PriceENS = Pusd['PriceENS_Hosp'].values\n",
    "\n",
    "    Cbackup = 0.53\n",
    "\n",
    "    SoC_init = 1 #Estado de carga inicial\n",
    "\n",
    "    Adisp = 3500                   # Área disponible para instalación de paneles solares en el lugar en m2\n",
    "\n",
    "\n",
    "elif Caso == 'Vichada':\n",
    "\n",
    "    Load = Ld['Carga_Vichada'].values\n",
    "\n",
    "    PGridMax = PGridAv['CargaVichada'].values\n",
    "    PDieselMax = PGridAv['CargaVichadaDiesel'].values\n",
    "    MaxPpvG = 0.05*PGridAv['CargaVichada'].values    #0.05 por default        # Máxima potencia de venta de PV a la red W\n",
    "    PriceENS = Pusd['PriceENS_PC'].values\n",
    "\n",
    "    Cbackup = 0\n",
    "\n",
    "    SoC_init = 1 #Estado de carga inicial\n",
    "    \n",
    "    Adisp = 200                  # Área disponible para instalación de paneles solares en el lugar en m2\n",
    "\n",
    "    \n",
    "    \n",
    "\n",
    "\n",
    "MaxBudget = 25000                      # Máximo presupuesto de inversión en el año cero\n",
    "Ppvusd = 0.7*Pusd.loc[:,'PriceGrid']       # Costo deventa de energía solar a la red en $USD/kWh\n",
    "MaxPayments = -1*npf.pmt(interest, life_years, MaxBudget)  # Máximo presupuesto de inversión amortizado\n",
    "\n",
    "PVDCstring = 1000             # Máxima tensión DC del arreglo FV \n",
    "Vdc = 48                     # Valor de tensión en el nodo DC de la microrred\n",
    "\n"
   ]
  },
  {
   "cell_type": "code",
   "execution_count": null,
   "metadata": {},
   "outputs": [],
   "source": [
    "Battype"
   ]
  },
  {
   "cell_type": "code",
   "execution_count": null,
   "metadata": {},
   "outputs": [],
   "source": [
    "PVtype"
   ]
  },
  {
   "cell_type": "markdown",
   "metadata": {},
   "source": [
    "Modelo de King de la temperatura del modulo fotovoltaico\n",
    "\n",
    "$$ T_{m} = E·e^{a+b·WS}+T_{a} $$\n",
    "\n",
    "Con la ecuación anterior se puede encontrar la temperatura de la superficie posterior del panel fotovoltaico a partir de la irradiancia, velocidad del viento y temperatura ambiente, en cada instante de tiempo. Los coeficientes a y b se encuentran de forma empírica ya que dependen de la instalación fisica de los paneles solares. La siguiente tabla muestra los coeficientes para diferentes formas de instalación:\n",
    "\n",
    "<img src='Tabla_coef.PNG'>\n",
    "\n",
    "Posteriormente, se encuentra la temperatura de operación del panel con la siguiente ecuación:\n",
    "\n",
    "$$ T_{c} = T_{m}+\\frac{E}{E_{0}}\\Delta T $$\n"
   ]
  },
  {
   "cell_type": "code",
   "execution_count": null,
   "metadata": {},
   "outputs": [],
   "source": [
    "#Detemrnación de la emperatura del módulo a partir de datos meteorlógicos \n",
    "Tm = np.zeros(len(Wind))\n",
    "for i in range(0,len(Wind)):\n",
    "    Tm[i] = Gd['Irra_year'].values[i]*exp(-3.47-0.0594*Wind['vel (m/s)'].values[i])+Tem['Temperatura'].values[i]\n",
    "\n",
    "T_panel = Tm+(Gd['Irra_year'].values/1000)*3"
   ]
  },
  {
   "cell_type": "markdown",
   "metadata": {},
   "source": [
    "Para encontrar los nuevos valores de potencia MPP se utilizaron las siguientes ecuaciones\n",
    "\n",
    "$$ P_{MPP} = P_{MPP,ref} \\times (1+g(T-T_{ref}))\\frac{S}{S_{ref}} $$"
   ]
  },
  {
   "cell_type": "code",
   "execution_count": null,
   "metadata": {},
   "outputs": [],
   "source": [
    "#Determinación de la potencia de MPPT para cada escenario meteorológico\n",
    "n = pd.DataFrame(index=Gd.index,columns = PVtype.columns)\n",
    "P_mpp = pd.DataFrame(index=Gd.index,columns = PVtype.columns)\n",
    "P_in = pd.DataFrame(index=Gd.index,columns = PVtype.columns)\n",
    "\n",
    "for k in list(PVtype.columns):\n",
    "    \n",
    "    P_mpp[k] = (PVtype.loc['Potencia (W) STC',k]*(1+(PVtype.loc['Tc_Pmax',k]/100)*(T_panel-25))*(Gd['Irra_year'].values/1000))/1000     \n",
    "    P_in[k] = (Gd['Irra_year'].values*PVtype.loc['Area (m2)',k])/1000    \n",
    "    a = P_mpp[k].values\n",
    "    b = P_in[k].values\n",
    "    n[k] = np.divide(a, b, out=np.zeros_like(a), where=b!=0)    \n",
    "    "
   ]
  },
  {
   "cell_type": "markdown",
   "metadata": {},
   "source": [
    "## Sets"
   ]
  },
  {
   "cell_type": "code",
   "execution_count": null,
   "metadata": {},
   "outputs": [],
   "source": [
    "# Sets\n",
    "T= Ld.index.tolist() #LLamando los indices del dataframe\n",
    "PVT= PVtype.columns.tolist() #LLamando los indices del dataframe\n",
    "BATT= Battype.columns.tolist() #LLamando los indices del dataframe"
   ]
  },
  {
   "cell_type": "code",
   "execution_count": null,
   "metadata": {
    "colab": {
     "base_uri": "https://localhost:8080/",
     "height": 303
    },
    "id": "mgAI7A7Ibxcs",
    "outputId": "5ad956be-317a-448d-dfeb-ef3f79a5d57e"
   },
   "outputs": [],
   "source": [
    "dia = 0 # de 0 a 364\n",
    "\n",
    "Gdia = Gd.loc[(dia*24+1):(dia*24+24),'Irra_year']\n",
    "Tdia = Gd.loc[(dia*24+1):(dia*24+24),'Irra_year'].index.tolist()\n",
    "\n",
    "fig = plt.figure(figsize=(20,6))\n",
    "plt.plot(Tdia,Gdia,'r',label='Gd')\n",
    "plt.xlabel('Time [h]')\n",
    "plt.ylabel('Irradiance [W/m^2]')\n",
    "#plt.xticks([1, 2, 3, 4, 5, 6, 7, 8, 9, 10, 11, 12, 13, 14, 15, 16, 17, 18, 19, 20, 21, 22, 23 , 24 ])\n",
    "plt.legend()\n",
    "plt.grid()\n",
    "plt.show()\n",
    "plt.close(fig)"
   ]
  },
  {
   "cell_type": "code",
   "execution_count": null,
   "metadata": {
    "colab": {
     "base_uri": "https://localhost:8080/",
     "height": 302
    },
    "id": "W4NY7VNa2VSD",
    "outputId": "a514ed39-dfc5-4916-c92b-eecc614840f6"
   },
   "outputs": [],
   "source": [
    "Ldia = Ld.loc[(dia*24+1):(dia*24+24),'Carga_Vichada']\n",
    "Tdia = Ld.loc[(dia*24+1):(dia*24+24),'Carga_Vichada'].index.tolist()\n",
    "\n",
    "fig = plt.figure(figsize=(20,6))\n",
    "plt.plot(Tdia,Ldia,'b',label='Ld_dia')\n",
    "plt.xlabel('Time [h]')\n",
    "plt.ylabel('Power [W]')\n",
    "#plt.xticks([1, 2, 3, 4, 5, 6, 7, 8, 9, 10, 11, 12, 13, 14, 15, 16, 17, 18, 19, 20, 21, 22, 23 , 24 ])\n",
    "plt.legend()\n",
    "plt.grid()\n",
    "plt.show()\n",
    "plt.close(fig)"
   ]
  },
  {
   "cell_type": "markdown",
   "metadata": {
    "id": "ghyzzc6xViCu"
   },
   "source": [
    "**Parámetros de entrada:**\n",
    "\n",
    "**Parámetros fijos**\n",
    "\n",
    "Máxima tensión del arreglo PV:\n",
    "$$Max_{V_{PVstring}}= 1000 \\ V_{dc}$$\n",
    "tensión del nodo DC de la microrred:\n",
    "$$V_{dc}= 48 \\ V$$\n",
    "Área disponible para instalación de paneles fotovoltaicos:\n",
    "$$A_{disp}= 350 \\ m^2$$\n",
    "Máxima potencia fotovoltaica para venta a la red:\n",
    "$$Max_{P_{PVG}} = 75000 \\ W$$\n",
    "Costo de venta de energía fotovoltaica a la red en pesos: \n",
    "$$C_{PVG}= 50 \\ \\$ $$\n",
    "Costo de venta de energía fotovoltaica a la red en dolares:\n",
    "$$C_{PVG} = usd_{cop} C_{PVG} $$\n",
    "Máxima inversión para el sistema en el año 0 en dolares:\n",
    "$$Max_{budget}=50000\\ \\$ $$\n",
    "Máxima inversión para el sistema amortizada al horizonte de análisis:\n",
    "$$Max_{payments}= 3547 \\ \\$ $$\n",
    "\n",
    "**Parámetros que dependen del tipo de PV**\n",
    "\n",
    "Costo unitario de panel solar en dólares:\n",
    "$$C_{PV}$$\n",
    "Costo unitario de intalación de panel solar en dólares:\n",
    "$$C_{PVinst}$$\n",
    "Área unitaria de cada panel fotovoltaico:\n",
    "$$A_{PV}$$\n",
    "Número máximo de paneles fotovoltaicos restringido por área:\n",
    "$$AX_{PV} = A_{disp}/A_{PV}$$\n",
    "Potencia unitaria de pánel fotovoltaico:\n",
    "$$P_{PV_u}$$\n",
    "Vida útil en años:\n",
    "$$TPV_{ul}$$\n",
    "Costo unitario de panel solar amortizado anualmente en dólares:\n",
    "$$C_{PV_{y}}$$\n",
    "Costo unitario de instalación de panel solar amortizado anualmente en dólares:\n",
    "$$C_{PVinst_{y}}$$\n",
    "\n",
    "**Parámetros que dependen del tipo de BATT**\n",
    "\n",
    "Costo unitario de batería en dólares:\n",
    "$$C_B $$\n",
    "Capacidad energética unitaria de batería:\n",
    "$$E_{Bu}$$\n",
    "Energía mínima de batería:\n",
    "$$E_{{Bu}_{inf}}$$\n",
    "Energía máxima de batería:\n",
    "$$E_{{Bu}_{sup}}$$\n",
    "Potencia de carga/descarga mínima de batería:\n",
    "$$P_{{Bu}_{inf}}$$\n",
    "Potencia de carga/descarga máxima de batería:\n",
    "$$P_{{Bu}_{sup}}$$\n",
    "Eficiencia de carga y descarga de la batería:\n",
    "$$\\eta=\\eta_d=\\eta_c$$\n",
    "Tensión de cada batería:\n",
    "$$V_B$$\n",
    "Vida útil en años:\n",
    "$$TB_{ul}$$\n",
    "Costo unitario de batería amortizado anualmente en dólares:\n",
    "$$C_{B_{y}}$$\n",
    "Número de ciclos de descarga en vida útil:\n",
    "$$ND_{cyc}$$\n",
    "Porcentaje de degradación de la capacidad de la batería por ciclo de descarga:\n",
    "$$\\% Deg$$\n",
    "\n",
    "\n",
    "**Algunos otros parámetros propuestos para implementar:**\n",
    "\n",
    "Tensión de las baterías para topología de bus DC:\n",
    "$$V_B$$\n",
    "Numero de descargas de las baterías para envejecimiento: \n",
    "$$n_d$$"
   ]
  },
  {
   "cell_type": "markdown",
   "metadata": {
    "id": "lkGDtUiJYjh9"
   },
   "source": [
    "**Variables del modelo:**\n",
    "\n",
    "**Variables Discretas**\n",
    "\n",
    "Número de paneles fotovoltaicos tipo A:\n",
    "$$X_{PV_i}$$\n",
    "Número de baterías tipo A:\n",
    "$$X_{B_j}$$\n",
    "\n",
    "**Variables Contínuas**\n",
    "\n",
    "Potencia comprada a la red:\n",
    "$$P_{G}$$\n",
    "Potencia utilizada del generador Diésel de emergencia:\n",
    "$$P_{D}$$\n",
    "Potencia requerida por la energía no suministrada a la carga:\n",
    "$$P_{ENS}$$\n",
    "Potencia de paneles dirigida a la carga:\n",
    "$$P_{PVL_i}$$\n",
    "Potencia de paneles dirigida a la red:\n",
    "$$P_{PVG_i}$$\n",
    "Potencia de paneles dirigida a las baterías:\n",
    "$$P_{PVB_ij}$$\n",
    "Potencia de las baterías tipo dirigida a la carga:\n",
    "$$P_{BL_j}$$\n",
    "Potencia de las baterías:\n",
    "$$P_{B_j}$$\n",
    "Estado de carga de las baterías:\n",
    "$$SoC_j$$\n",
    "Capacidad de las baterías:\n",
    "$$Bcap_j$$\n",
    "\n",
    "\n",
    "**Variables Binarias**\n",
    "\n",
    "Carga efectiva de las baterías:\n",
    "$$Bc_j$$\n",
    "Descarga efectiva de las baterías:\n",
    "$$Bd_j$$"
   ]
  },
  {
   "cell_type": "code",
   "execution_count": null,
   "metadata": {
    "id": "WereA7xpjQf8"
   },
   "outputs": [],
   "source": [
    "# Variables discretas\n",
    "model.Xpvs  = Var(PVT, domain=NonNegativeIntegers)     # Número de strings de paneles solares\n",
    "model.Xpv = Var(PVT, domain=NonNegativeIntegers)        # Número de paneles solares\n",
    "model.XBb  = Var(BATT, domain=NonNegativeIntegers)      # Número de strings de Baterías\n",
    "model.XB  = Var(BATT, domain=NonNegativeIntegers)       # Número de Baterías\n",
    "model.Eps = Var(BATT, domain=NonNegativeReals)          # Reemplazo de baterías durante el periodo de análisis\n",
    "\n",
    "\n",
    "# Variables continuas\n",
    "model.PGL = Var(T, domain=NonNegativeReals)                              # Potencia de la red electrovichada a la carga\n",
    "model.PGB = Var(BATT, T, domain=NonNegativeReals)                        # Potencia de la red electrovichada a la bateria\n",
    "model.PD = Var(T, domain=NonNegativeReals)                               # Potencia del generador diésel de respaldo\n",
    "model.ENS = Var(T, domain=NonNegativeReals)                              # Potencia para la energía no suministrada\n",
    "model.PpvL = Var(PVT, T, domain=NonNegativeReals)                        # Potencia del panel dirigida a la carga\n",
    "model.PpvG = Var(PVT, T, domain=NonNegativeReals)                        # Potencia del panel dirigida a la red\n",
    "model.PpvB = Var(PVT, BATT, T, domain=NonNegativeReals)                  # Potencia del panel dirigida a las baterías A\n",
    "model.PpvCur = Var(PVT, T, domain=NonNegativeReals)\n",
    "model.PBL = Var(BATT, T, domain=NonNegativeReals)                        # Potencia de las baterías A dirigida a la carga\n",
    "model.SoC = Var(BATT, T, domain=NonNegativeReals)                        # Estado de carga de las baterías tipo\n",
    "model.Bcap = Var(BATT, T, domain=NonNegativeReals)                       # Capacidad de descarga de las baterías tipo\n",
    "\n",
    "\n",
    "#Variables binarias/Toma de decisiones logicas (0,1)\n",
    "model.Bceff = Var(BATT, T, within=Binary)                                # Carga efectiva de baterías con PV (1 = recibe Pot) (0 = no recibe pot)\n",
    "model.BceffGrid = Var(BATT, T, within=Binary)                            # Carga efectiva de baterías con red (1 = recibe Pot) (0 = no recibe pot)\n",
    "model.Bdeff = Var(BATT, T, within=Binary)                                # Descarga efectiva de baterías (1 = entrega pot) (0 = no entrega pot)\n"
   ]
  },
  {
   "cell_type": "markdown",
   "metadata": {
    "id": "-vMkWPTOieHs"
   },
   "source": [
    "## Función objetivo\n",
    "\n",
    "$$min \\sum_{\\forall i \\in N}{(C^{PV}_{i}+C^{PVinst}_{i})X^{PV}_{i}} + \\sum_{\\forall j \\in M}{C^{B}_{j}X^{B}_{j}} + \\sum_{i=1}^{LY} \\frac{1}{(1+r)^i} \\left( \\sum_{\\forall j \\in M}{\\frac{C^{B}_{j}}{E^{B}_{j}}\\epsilon^{B}_{j}} \\right)\n",
    "+ \\sum_{i=1}^{LY} \\frac{1}{(1+r)^i} \\left( \\sum_{\\forall t \\in T}{C^{grid}_t(P^{GL}_t + \\sum_{\\forall j \\in M} P^{GB}_{j,t}) + C^{bckp}_t P^{D}_t + C^{ENS}_t P^{ENS}_t - C^{PVG}_t \\sum_{\\forall i \\in N} P^{PVG}_{i,t}} \\right) \\delta T$$"
   ]
  },
  {
   "cell_type": "code",
   "execution_count": null,
   "metadata": {
    "id": "dlITYxbKPYs5"
   },
   "outputs": [],
   "source": [
    "#Función objetivo \n",
    "def obj_rule(model):#regla(Función python)\n",
    "      return (sum(model.Xpv[tpv]*(PVtype[tpv].iloc[0]+PVtype[tpv].iloc[1]) for tpv in PVT) + \n",
    "              sum(model.XB[tbatt]*(Battype[tbatt].iloc[0]+Battype[tbatt].iloc[13]) + VPN_FS*model.Eps[tbatt]*((Battype[tbatt].iloc[0])/(0.2*Battype[tbatt].iloc[3])) for tbatt in BATT) + \n",
    "              VPN_FS*sum(Pusd.loc[t,'PriceGrid']*(model.PGL[t]+sum(model.PGB[tb,t] for tb in BATT)) + Cbackup*model.PD[t] + PriceENS[t-1]*model.ENS[t] - Ppvusd[t]*sum(model.PpvG[tpv,t] for tpv in PVT) for t in T))       \n",
    "\n",
    "model.Obj=Objective(rule=obj_rule,sense=minimize)                  #Objetive=Objetive, minimizar función"
   ]
  },
  {
   "cell_type": "markdown",
   "metadata": {},
   "source": [
    "## Restricciones\n",
    "\n",
    "Cálculo de número de módulos por string:\n",
    "$$X^{PV}_i = X^{PVs}_i \\cdot \\lfloor Max^{V_{PVstr}}/V^{oc_{u}}_i \\rfloor \\qquad \\forall i \\in N $$\n",
    "Cálculo de número de baterías por banco:\n",
    "$$X^{B}_j = X^{Bb}_j \\cdot \\lfloor Max^{V_B}/V^{B}_j \\rfloor \\qquad \\forall j \\in M$$\n",
    "Maximo número de PV por área\n",
    "$$ \\sum_{\\forall i \\in N} A^{PV}_i X^{PV}_i \\leq A^{av} $$"
   ]
  },
  {
   "cell_type": "code",
   "execution_count": null,
   "metadata": {},
   "outputs": [],
   "source": [
    "# Número de modulos FV del sistema por string\n",
    "def PV_string_rule(model,tpv):#,t para todo t en T\n",
    "    return model.Xpv[tpv] == model.Xpvs[tpv]*np.floor((PVDCstring/PVtype[tpv].iloc[9]))\n",
    "model.PV_string=Constraint(PVT,rule=PV_string_rule)\n",
    "\n",
    "# Número de baterías del sistema por string\n",
    "def XB_bank_rule(model,tb):#,t para todo t en T\n",
    "    return model.XB[tb] == model.XBb[tb]*np.floor(Vdc/Battype[tb].iloc[8])\n",
    "model.XB_bank=Constraint(BATT,rule=XB_bank_rule)\n",
    "\n",
    "#Maximo número de PV tipo\n",
    "def PV_number_rule(model):#\n",
    "    return sum(model.Xpv[tpv]*PVtype[tpv].iloc[2] for tpv in PVT) <= Adisp \n",
    "model.PV_number=Constraint(rule=PV_number_rule)"
   ]
  },
  {
   "cell_type": "markdown",
   "metadata": {},
   "source": [
    "Máxima inversión económica posible en el año cero\n",
    "$$\\sum_{\\forall i \\in N}{(C^{PV}_i+C^{PVinst}_i)X^{PV}_i} + \\sum_{\\forall j \\in M}{C^{B}_j X^{B}_j} \\leq Max^{payments}  $$"
   ]
  },
  {
   "cell_type": "code",
   "execution_count": null,
   "metadata": {},
   "outputs": [],
   "source": [
    "#Restricción económica de la inversión\n",
    "def Budget_rule(model):#\n",
    "    return sum(model.Xpv[tpv]*(PVtype[tpv].iloc[7]+PVtype[tpv].iloc[8]) for tpv in PVT) + sum(model.XB[tbatt]*(Battype[tbatt].iloc[10]+Battype[tbatt].iloc[14]) for tbatt in BATT) <= MaxPayments\n",
    "model.Budget=Constraint(rule=Budget_rule)"
   ]
  },
  {
   "cell_type": "markdown",
   "metadata": {},
   "source": [
    "Balance de potencia:\n",
    "$$P^{GL}_t + \\sum_{\\forall i \\in N} P^{PVL}_{i,t} +\\sum_{\\forall j \\in M} P^{BL}_{j,t} + P^{D}_t + P^{NS}_t = P^{L}_t \\qquad \\forall t \\in T$$\n",
    "Balance de potencia PV:\n",
    "$$P^{PVL}_{i,t}+P^{PVG}_{i,t} + \\sum_{\\forall j \\in M} P^{PVB}_{i,j,t} + P^{PVcur}_t = X^{PV}_i P^{mpp}_{i,t} \\qquad \\forall i \\in N, \\ \\forall t \\in T$$"
   ]
  },
  {
   "cell_type": "code",
   "execution_count": null,
   "metadata": {},
   "outputs": [],
   "source": [
    "#Balance de Potencia  \n",
    "def P_balance_rule(model,t):#,t para todo t en T\n",
    "    return model.PGL[t]+sum(model.PpvL[tpv,t] for tpv in PVT)+sum(model.PBL[tb,t] for tb in BATT)+model.PD[t]+model.ENS[t]== Load[t-1]\n",
    "model.P_balance=Constraint(T,rule=P_balance_rule)\n",
    "\n",
    "#Balance de Potencia PV \n",
    "def PV_balance_rule(model,tpv,t):#,t para todo t en T \n",
    "    return model.PpvL[tpv,t] + model.PpvG[tpv,t] + sum(model.PpvB[tpv,tb,t] for tb in BATT) + model.PpvCur[tpv,t] == model.Xpv[tpv]*P_mpp[tpv].iloc[t-1]\n",
    "model.PV_balance=Constraint(PVT,T,rule=PV_balance_rule)"
   ]
  },
  {
   "cell_type": "markdown",
   "metadata": {},
   "source": [
    "Restricción Potencia red:\n",
    "$$P^{GL}_t + \\sum_{\\forall j \\in M} P^{GB}_{j,t} \\leq Max^{P_{G}} \\cdot Grid^{av}_t \\qquad \\forall t \\in T$$\n",
    "Restricción Potencia Diesel:\n",
    "$$P^{D}_t \\leq Max^{P_{D}} \\cdot Bckp^{av}_t \\qquad \\forall t \\in T$$\n",
    "Restricción Potencia PV de venta a red:\n",
    "$$\\sum_{\\forall i \\in N} P^{PVG}_{i,t} \\leq Max^{P_{PVG}} \\cdot Grid^{av}_t \\qquad \\forall t \\in T$$"
   ]
  },
  {
   "cell_type": "code",
   "execution_count": null,
   "metadata": {},
   "outputs": [],
   "source": [
    "# Restricción Potencia red \n",
    "def PG_lim_rule(model,t):#\n",
    "    return model.PGL[t] + sum(model.PGB[tb,t] for tb in BATT) <= PGridMax[t-1]\n",
    "model.PG_lim=Constraint(T,rule=PG_lim_rule)\n",
    "\n",
    "# Restricción Potencia diesel\n",
    "def PD_lim_rule(model,t):#\n",
    "    return model.PD[t] <= PDieselMax[t-1]\n",
    "model.PD_lim=Constraint(T,rule=PD_lim_rule)\n",
    "\n",
    "# Potencia PV de venta a red\n",
    "def PpvG_lim_rule(model,t):#\n",
    "    return sum(model.PpvG[tpv,t] for tpv in PVT) <= MaxPpvG[t-1]\n",
    "model.PpvG_lim=Constraint(T,rule=PpvG_lim_rule)"
   ]
  },
  {
   "cell_type": "markdown",
   "metadata": {},
   "source": [
    "Potencia de carga de baterías nominal para PV:\n",
    "$$\\sum_{\\forall i \\in N} P^{PVB}_{i,j,t} \\leq X^{B}_j P^{Bu}_j \\qquad \\forall j \\in M, \\ \\forall t \\in T$$\n",
    "Potencia de carga de baterías nominal para la Red:\n",
    "$$P^{GB}_{j,t} \\leq X^{B}_j P^{Bu}_j \\qquad \\forall j \\in M, \\ \\forall t \\in T$$\n",
    "Potencia de descarga de baterías nominal:\n",
    "$$P^{BL}_{j,t} \\leq X^{B}_j P^{Bu}_j \\qquad \\forall j \\in M, \\ \\forall t \\in T$$"
   ]
  },
  {
   "cell_type": "code",
   "execution_count": null,
   "metadata": {},
   "outputs": [],
   "source": [
    "# Potencia PV de carga de baterías nominal\n",
    "def PpvB_lim_rule(model,tb,t):#\n",
    "    return sum(model.PpvB[tpv,tb,t] for tpv in PVT) <= model.Bcap[tb,t]/t_s\n",
    "    #return sum(model.PpvB[tpv,tb,t] for tpv in PVT) <= model.XB[tb]*Battype[tb].iloc[5]\n",
    "model.PpvB_lim=Constraint(BATT,T,rule=PpvB_lim_rule)\n",
    "\n",
    "# Potencia Red de carga de baterías nominal\n",
    "def PGB_lim_rule(model,tb,t):#\n",
    "    return model.PGB[tb,t] <= model.Bcap[tb,t]/t_s\n",
    "model.PGB_lim_rule=Constraint(BATT,T,rule=PGB_lim_rule)\n",
    "\n",
    "# Potencia de descarga de la batería\n",
    "def PBL_lims_rule(model,tb,t):#\n",
    "    return model.PBL[tb,t] <= model.Bcap[tb,t]/t_s\n",
    "    #return model.PBL[tb,t] <= model.XB[tb]*Battype[tb].iloc[4]\n",
    "model.PBL_lims=Constraint(BATT,T,rule=PBL_lims_rule)"
   ]
  },
  {
   "cell_type": "markdown",
   "metadata": {},
   "source": [
    "Batería cargando con PV:\n",
    "$$\\sum_{\\forall i \\in N} P^{PVB}_{i,j,t} \\leq K \\cdot B^{PVcs}_{j,t}$$\n",
    "$$\\sum_{\\forall i \\in N} P^{PVB}_{i,j,t} \\geq -K \\cdot (1-B^{PVcs}_{j,t}) $$\n",
    "Batería cargando con Red:\n",
    "$$P^{GB}_{j,t} \\leq K \\cdot B^{Gcs}_{j,t} $$\n",
    "$$P^{GB}_{j,t} \\geq -K \\cdot (1-B^{Gcs}_{j,t}) $$\n",
    "Batería descargando:\n",
    "$$P^{BL}_{j,t} \\leq K \\cdot B^{ds}_{j,t}$$\n",
    "$$P^{BL}_{j,t} \\geq -K \\cdot (1-B^{ds}_{j,t}) $$\n",
    "Estado único de la batería\n",
    "$$B^{PVcs}_{j,t} + B^{Gcs}_{j,t} + B^{ds}_{j,t} \\leq 1 \\qquad \\forall j \\in M, \\ \\forall t \\in T$$"
   ]
  },
  {
   "cell_type": "code",
   "execution_count": null,
   "metadata": {},
   "outputs": [],
   "source": [
    "# Batería cargando con PV\n",
    "def Ceff_rule1(model,tb,t):#\n",
    "    return sum(model.PpvB[tpv,tb,t] for tpv in PVT) <= 100e6*model.Bceff[tb,t]\n",
    "model.Ceff_rule1=Constraint(BATT,T,rule=Ceff_rule1)\n",
    "\n",
    "def Ceff_rule2(model,tb,t):#\n",
    "    return sum(model.PpvB[tpv,tb,t] for tpv in PVT) >= -100e6*(1-model.Bceff[tb,t])\n",
    "model.Ceff_rule2=Constraint(BATT,T,rule=Ceff_rule2)\n",
    "\n",
    "# Batería cargando con la red\n",
    "def CeffGrid_rule1(model,tb,t):#\n",
    "    return model.PGB[tb,t] <= 100e6*model.BceffGrid[tb,t]\n",
    "model.CeffGrid_rule1=Constraint(BATT,T,rule=CeffGrid_rule1)\n",
    "\n",
    "def CeffGrid_rule2(model,tb,t):#\n",
    "    return model.PGB[tb,t] >= -100e6*(1-model.BceffGrid[tb,t])\n",
    "model.CeffGrid_rule2=Constraint(BATT,T,rule=CeffGrid_rule2)\n",
    "\n",
    "# Batería descargando\n",
    "def Deff_rule1(model,tb,t):#\n",
    "    return model.PBL[tb,t] <= 100e6*(model.Bdeff[tb,t])\n",
    "model.Deff_rule1=Constraint(BATT,T,rule=Deff_rule1)\n",
    "\n",
    "def Deff_rule2(model,tb,t):#\n",
    "    return model.PBL[tb,t] >= -100e6*(1-model.Bdeff[tb,t])\n",
    "model.Deff_rule2=Constraint(BATT,T,rule=Deff_rule2)\n",
    "\n",
    "# Estado único de batería\n",
    "def Bstate_rule(model,tb,t):#\n",
    "    return model.Bceff[tb,t] + model.BceffGrid[tb,t] + model.Bdeff[tb,t] <= 1\n",
    "model.Bstate_rule=Constraint(BATT,T,rule=Bstate_rule)"
   ]
  },
  {
   "cell_type": "markdown",
   "metadata": {},
   "source": [
    "Estado de carga inicial de baterías\n",
    "$$SoC_{j,t_0} = X^{B}_{j}E^{B}_{j}SoC^{init}_{j}$$\n",
    "Capacidad inicial de baterías\n",
    "$$B^{cap}_{j,t_0} = X^{B}_j E^{B}_j$$\n",
    "Capacidad mínima de baterías \n",
    "$$SoC_{t,j} \\geq X^{B}_{j}E^{{B}_{min}}_{j}$$\n",
    "Capacidad máxima de baterías\n",
    "$$SoC_{j,t} \\leq B^{cap}_{j,t}$$"
   ]
  },
  {
   "cell_type": "code",
   "execution_count": null,
   "metadata": {},
   "outputs": [],
   "source": [
    "# Estado de carga inicial de baterías\n",
    "def Batt_ini_rule(model,tb):#\n",
    "    return model.SoC[tb,T[0]] == model.XB[tb]*Battype[tb].iloc[3]*SoC_init\n",
    "model.Batt_ini=Constraint(BATT,rule=Batt_ini_rule)\n",
    "\n",
    "# Capacidad inicial de las baterías\n",
    "def Bcap_ini_rule(model,tb):#\n",
    "    return model.Bcap[tb,1] == model.XB[tb]*Battype[tb].iloc[3]\n",
    "model.Bcap_ini_rule=Constraint(BATT,rule=Bcap_ini_rule)\n",
    "\n",
    "# Capacidad mínima de baterías \n",
    "def Batt_socmin_rule(model,tb,t):#\n",
    "    return model.XB[tb]*Battype[tb].iloc[2] <= model.SoC[tb,t]\n",
    "model.Batt_socmin=Constraint(BATT,T,rule=Batt_socmin_rule)\n",
    "\n",
    "# Capacidad máxima de baterías \n",
    "def Batt_socmax_rule(model,tb,t):#\n",
    "    return model.SoC[tb,t] <= model.Bcap[tb,t] \n",
    "model.Batt_socmax=Constraint(BATT,T,rule=Batt_socmax_rule)"
   ]
  },
  {
   "cell_type": "markdown",
   "metadata": {
    "id": "LjVtVLYSjrin"
   },
   "source": [
    "Cálculo de estado de carga en baterías cada hora\n",
    "$$SoC_{t,j} = SoC_{j,(t-1)}(1-SD^{B}_{j})+ \\left( \\sum_{\\forall i \\in N} P^{PVB}_{i,j,t} + P^{GB}_{j,t} \\right) \\delta T \\eta - P^{BL}_{j,t}\\delta T/\\eta $$\n",
    "Degradación de la capacidad de las baterías\n",
    "$$B^{cap}_{j,t} = B^{cap}_{j,(t-1)} - Deg^{ESS}_j P^{BL}_{j,t}$$\n",
    "Degradación anual de la capacidad de baterías\n",
    "$$B^{cap}_{j,t_0}-B^{cap}_{j,t_f} = 0.2B^{cap}_{j,t_0}/LY + \\epsilon^{B}_j$$"
   ]
  },
  {
   "cell_type": "code",
   "execution_count": null,
   "metadata": {
    "id": "__Uxwxp50BBT"
   },
   "outputs": [],
   "source": [
    "# Cálculo de estado de carga en baterías cada hora\n",
    "def Batt_ts_rule(model,tb,t):#\n",
    "    return (model.SoC[tb,t-1]*(1-(Battype[tb].iloc[15]))+sum(model.PpvB[tpv,tb,t]*(Battype[tb].iloc[6])*t_s for tpv in PVT) + \n",
    "            model.PGB[tb,t]*t_s*Battype[tb].iloc[6] - model.PBL[tb,t]*t_s/(Battype[tb].iloc[6])==model.SoC[tb,t])\n",
    "model.Batt_ts=Constraint(BATT,T[1:-1],rule=Batt_ts_rule)\n",
    "\n",
    "# Degradación de la capacidad de las baterías\n",
    "def Bcap_rule1(model,tb,t):#\n",
    "    return model.Bcap[tb,t] == model.Bcap[tb,t-1] - Battype[tb].iloc[12]*model.PBL[tb,t]\n",
    "model.Bcap_rule1=Constraint(BATT,T[1:],rule=Bcap_rule1)\n",
    "\n",
    "# Degradación anual de la capacidad de las baterías\n",
    "def Bcap_rule2(model,tb):#\n",
    "    return model.Bcap[tb,T[0]]-model.Bcap[tb,T[-1]] <= 0.2*model.Bcap[tb,T[0]]/life_years + model.Eps[tb]\n",
    "model.Bcap_rule2=Constraint(BATT,rule=Bcap_rule2)"
   ]
  },
  {
   "cell_type": "markdown",
   "metadata": {},
   "source": [
    "## Resolución del problema"
   ]
  },
  {
   "cell_type": "code",
   "execution_count": null,
   "metadata": {
    "id": "duei3wvC7qOq"
   },
   "outputs": [],
   "source": [
    "#import os\n",
    "\n",
    "#provide an email address\n",
    "#os.environ['NEOS_EMAIL'] = 'lumleongi@unal.edu.co'\n",
    "\n",
    "#results=pym.SolverManagerFactory('neos').solve(model, opt='cplex')\n",
    "\n",
    "#results=SolverFactory('cplex').solve(model, tee=True)\n",
    "#results=SolverFactory('gurobi').solve(model, tee=True, keepfiles=True)\n",
    "\n",
    "results=SolverFactory('glpk').solve(model, tee=True)"
   ]
  },
  {
   "cell_type": "code",
   "execution_count": null,
   "metadata": {
    "colab": {
     "base_uri": "https://localhost:8080/"
    },
    "id": "AhLI1Xz-6pQ0",
    "outputId": "2325d256-3f5e-4713-e397-69684288f97d"
   },
   "outputs": [],
   "source": [
    "def pyomo_postprocess(options=None, instance=None, results=None):\n",
    "    model.Obj.display()\n",
    "    model.Xpv.display()\n",
    "    model.Xpvs.display()\n",
    "    model.XB.display()    \n",
    "    model.Eps.display()    \n",
    "    model.PBL.display()\n",
    "    model.ENS.display()\n",
    "    \n",
    "pyomo_postprocess(None, model, results)"
   ]
  },
  {
   "cell_type": "code",
   "execution_count": null,
   "metadata": {},
   "outputs": [],
   "source": [
    "model.Obj.display()"
   ]
  },
  {
   "cell_type": "markdown",
   "metadata": {},
   "source": [
    "## Extracción de resultados\n",
    "\n",
    "### 1) Variables indexadas por tipo de batería"
   ]
  },
  {
   "cell_type": "code",
   "execution_count": null,
   "metadata": {},
   "outputs": [],
   "source": [
    "Bcap = []\n",
    "PBL = []\n",
    "SoC = []\n",
    "PGB = []\n",
    "\n",
    "Res_BATT = pd.DataFrame(columns=[\"Numero optimo\",\"Strings\"])\n",
    "\n",
    "for b in BATT:\n",
    "    Bcap.append([model.Bcap[b,t].value for t in T])\n",
    "    PBL.append([model.PBL[b,t].value for t in T])    \n",
    "    SoC.append([model.SoC[b,t].value for t in T])\n",
    "    PGB.append([model.PGB[b,t].value for t in T])\n",
    "    Res_BATT.loc[b] = [model.XB[b].value, model.XBb[b].value]\n",
    "    \n",
    "Res_BATT"
   ]
  },
  {
   "cell_type": "markdown",
   "metadata": {},
   "source": [
    "### 2) Variables indexadas por tipo de panel"
   ]
  },
  {
   "cell_type": "code",
   "execution_count": null,
   "metadata": {},
   "outputs": [],
   "source": [
    "PpvL = []\n",
    "PpvG = []\n",
    "PpvB = []\n",
    "PpvCur = [sum(model.PpvCur[tpv,t].value for tpv in PVT) for t in T]\n",
    "\n",
    "Res_PV = pd.DataFrame(columns=[\"Numero optimo\",\"Strings\"])\n",
    "for pv in PVT:\n",
    "    PpvL.append([model.PpvL[pv,t].value for t in T])\n",
    "    PpvG.append([model.PpvG[pv,t].value for t in T])\n",
    "    Res_PV.loc[pv] = [model.Xpv[pv].value, model.Xpvs[pv].value]\n",
    "    for b in BATT:\n",
    "        PpvB.append([model.PpvB[pv,b,t].value for t in T])\n",
    "\n",
    "Res_PV"
   ]
  },
  {
   "cell_type": "markdown",
   "metadata": {},
   "source": [
    "### 3) Variables indexadas por tiempo únicamente"
   ]
  },
  {
   "cell_type": "code",
   "execution_count": null,
   "metadata": {
    "id": "z5KHYpn4Hkx9"
   },
   "outputs": [],
   "source": [
    "PGL=[model.PGL[t].value for t in T]\n",
    "PD=[model.PD[t].value for t in T]\n",
    "ENS=[model.ENS[t].value for t in T]"
   ]
  },
  {
   "cell_type": "code",
   "execution_count": null,
   "metadata": {
    "colab": {
     "base_uri": "https://localhost:8080/",
     "height": 302
    },
    "id": "5qKhv_ySEjbj",
    "outputId": "3f22bc7f-5635-46c1-e198-acdee9983016"
   },
   "outputs": [],
   "source": [
    "fechas = pd.date_range(start = '01/01/2019 00:00', end='31/12/2019 23:00', freq='1H')\n",
    "\n",
    "import plotly.express as px\n",
    "import plotly.graph_objects as go\n",
    "\n",
    "fig = go.Figure()\n",
    "\n",
    "fig.add_trace(go.Scatter(x=fechas, y=Load,\n",
    "                    mode='lines',\n",
    "                    name='Load', line=dict(width=1, color='yellow')))\n",
    "\n",
    "\n",
    "fig.add_trace(go.Scatter(\n",
    "    x=fechas, y=PD,\n",
    "    hoverinfo='x+y',\n",
    "    mode='lines',\n",
    "    line=dict(width=0.5, color='rgb(229, 180, 37)'),\n",
    "    stackgroup='one',\n",
    "    name='P_Diesel2Load'\n",
    "))\n",
    "\n",
    "fig.add_trace(go.Scatter(\n",
    "    x=fechas, y=ENS,\n",
    "    mode='lines',\n",
    "    line=dict(width=0.5, color='rgb(0,0,0)'),\n",
    "    stackgroup='one', # define stack group,\n",
    "    name='ENS'\n",
    "))\n",
    "\n",
    "fig.add_trace(go.Scatter(\n",
    "    x=fechas, y=PGL,\n",
    "    hoverinfo='x+y',\n",
    "    mode='lines',\n",
    "    line=dict(width=0.8, color='rgb(240, 109, 101)'),\n",
    "    stackgroup='one',\n",
    "    name='P_Grid2Load'\n",
    "))\n",
    "fig.add_trace(go.Scatter(\n",
    "    x=fechas, y=np.sum(PBL, axis=0),\n",
    "    hoverinfo='x+y',\n",
    "    mode='lines',\n",
    "    line=dict(width=0.5, color='rgb(101, 113, 240)'),\n",
    "    stackgroup='one',\n",
    "    name='P_Batt2Load'\n",
    "))\n",
    "\n",
    "fig.add_trace(go.Scatter(\n",
    "    x=fechas, y=np.sum(PpvL, axis=0),\n",
    "    hoverinfo='x+y',\n",
    "    mode='lines',\n",
    "    line=dict(width=0.5, color='rgb(101, 240, 113)'),\n",
    "    stackgroup='one',\n",
    "    name='P_PV2Load'\n",
    "))\n",
    "\n",
    "\n",
    "\n",
    "fig.update_layout(title_text='Distribución de la carga',\n",
    "                  yaxis=dict(title='kW', titlefont_size=16, tickfont_size=14)\n",
    "                 )\n",
    "fig.show()\n",
    "\n",
    "fig = go.Figure()\n",
    "\n",
    "fig.add_trace(go.Scatter(x=fechas, y=(np.sum(SoC,axis=0)/np.sum(Bcap,axis=0))*100,\n",
    "                    mode='lines',\n",
    "                    name='SoC', line=dict(width=1, color='orange')))\n",
    "\n",
    "fig.update_layout(title_text='Estado de carga de los almacenadores',\n",
    "                  yaxis=dict(title='%', titlefont_size=16, tickfont_size=14)\n",
    "                 )\n",
    "\n",
    "fig.show()"
   ]
  },
  {
   "cell_type": "code",
   "execution_count": null,
   "metadata": {},
   "outputs": [],
   "source": [
    "colors = ['red','blue','green','yellow','brown'] \n",
    "#colors[1] = 'crimson'\n",
    "x=['Batt', 'PV', 'Grid', 'ENS', 'Diesel']\n",
    "y = [np.sum(PBL), np.sum(PpvL), np.sum(PGL), np.sum(ENS), np.sum(PD)]\n",
    "\n",
    "fig = go.Figure(data=[go.Bar(\n",
    "    x=x,\n",
    "    y=y,\n",
    "    marker_color=colors, text=np.round(y),\n",
    "    textposition='auto'# marker color can be a single color value or an iterable\n",
    ")])\n",
    "fig.update_layout(title_text='Distribución de la carga',\n",
    "                  yaxis=dict(title='kWh', titlefont_size=16, tickfont_size=14))"
   ]
  },
  {
   "cell_type": "code",
   "execution_count": null,
   "metadata": {},
   "outputs": [],
   "source": [
    "fig = go.Figure()\n",
    "\n",
    "fig.add_trace(go.Scatter(\n",
    "    x=fechas, y=PGL,\n",
    "    mode='lines',\n",
    "    line=dict(width=1, color='rgb(229, 180, 37)'),    \n",
    "    name='P_Grid2Load'\n",
    "))\n",
    "\n",
    "fig.add_trace(go.Scatter(\n",
    "    x=fechas, y=PGB,\n",
    "    mode='lines',\n",
    "    line=dict(width=1, color='rgb(101, 240, 113)'),\n",
    "    name='P_Grid2Batt'\n",
    "))\n",
    "\n",
    "\n",
    "fig.update_layout(title_text='Distribución de la Red',\n",
    "                  yaxis=dict(title='kW', titlefont_size=16, tickfont_size=14)\n",
    "                 )\n",
    "fig.show()"
   ]
  },
  {
   "cell_type": "code",
   "execution_count": null,
   "metadata": {},
   "outputs": [],
   "source": [
    "colors = ['red','blue','green','yellow','brown'] \n",
    "#colors[1] = 'crimson'\n",
    "x=['To Load', 'To Batt']\n",
    "y = [np.sum(PGL), np.sum(PGB)]\n",
    "\n",
    "fig = go.Figure(data=[go.Bar(\n",
    "    x=x,\n",
    "    y=y,\n",
    "    marker_color=colors, text=np.round(y),\n",
    "    textposition='auto'# marker color can be a single color value or an iterable\n",
    ")])\n",
    "fig.update_layout(title_text='Distribución de la Red',\n",
    "                  yaxis=dict(title='kWh', titlefont_size=16, tickfont_size=14)\n",
    "                 )"
   ]
  },
  {
   "cell_type": "code",
   "execution_count": null,
   "metadata": {},
   "outputs": [],
   "source": [
    "fig = go.Figure()\n",
    "\n",
    "fig.add_trace(go.Scatter(\n",
    "    x=fechas, y=np.sum(PpvL, axis=0),\n",
    "    mode='lines',\n",
    "    line=dict(width=0.5, color='rgb(229, 180, 37)'),\n",
    "    name='P_PV2Load'\n",
    "))\n",
    "\n",
    "fig.add_trace(go.Scatter(\n",
    "    x=fechas, y=np.sum(PpvB, axis=0),\n",
    "    mode='lines',\n",
    "    line=dict(width=0.8, color='rgb(240, 109, 101)'),\n",
    "    name='P_PV2Batt'\n",
    "))\n",
    "fig.add_trace(go.Scatter(\n",
    "    x=fechas, y=np.sum(PpvG, axis=0),\n",
    "    mode='lines',\n",
    "    line=dict(width=0.5, color='rgb(101, 113, 240)'),\n",
    "    name='P_PV2Grid'\n",
    "))\n",
    "\n",
    "fig.add_trace(go.Scatter(\n",
    "    x=fechas, y=PpvCur,\n",
    "    mode='lines',\n",
    "    line=dict(width=0.7, color='green'),\n",
    "    name='P_PV_Cur'\n",
    "))\n",
    "\n",
    "\n",
    "fig.update_layout(title_text='Distribución de la potencia fotovoltaica', yaxis=dict(title='kW', titlefont_size=16, tickfont_size=14))\n",
    "fig.show()"
   ]
  },
  {
   "cell_type": "code",
   "execution_count": null,
   "metadata": {},
   "outputs": [],
   "source": [
    "x=['To Load', 'To Batt', 'To Grid','Curtailment']\n",
    "y = [np.sum(PpvL), np.sum(PpvB), np.sum(PpvG), np.sum(PpvCur)]\n",
    "\n",
    "fig = go.Figure(data=[go.Bar(\n",
    "    x=x,\n",
    "    y=y,\n",
    "    marker_color=colors, text=np.round(y),\n",
    "    textposition='auto'# marker color can be a single color value or an iterable\n",
    ")])\n",
    "fig.update_layout(title_text='Distribución de la potencia fotovoltaica',\n",
    "                  yaxis=dict(title='kWh', titlefont_size=16, tickfont_size=14)\n",
    "                 )"
   ]
  },
  {
   "cell_type": "code",
   "execution_count": null,
   "metadata": {},
   "outputs": [],
   "source": []
  }
 ],
 "metadata": {
  "colab": {
   "collapsed_sections": [],
   "name": "Tesis Luis Leon",
   "provenance": [],
   "toc_visible": true
  },
  "kernelspec": {
   "display_name": "Python 3 (ipykernel)",
   "language": "python",
   "name": "python3"
  },
  "language_info": {
   "codemirror_mode": {
    "name": "ipython",
    "version": 3
   },
   "file_extension": ".py",
   "mimetype": "text/x-python",
   "name": "python",
   "nbconvert_exporter": "python",
   "pygments_lexer": "ipython3",
   "version": "3.9.12"
  }
 },
 "nbformat": 4,
 "nbformat_minor": 1
}
